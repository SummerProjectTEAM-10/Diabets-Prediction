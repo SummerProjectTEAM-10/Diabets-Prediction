{
  "nbformat": 4,
  "nbformat_minor": 0,
  "metadata": {
    "colab": {
      "name": "HeartDiseaseGeneticAlgo.ipynb",
      "provenance": [],
      "authorship_tag": "ABX9TyOT4JxrMnUmOu32OyNeWNr5",
      "include_colab_link": true
    },
    "kernelspec": {
      "name": "python3",
      "display_name": "Python 3"
    },
    "language_info": {
      "name": "python"
    }
  },
  "cells": [
    {
      "cell_type": "markdown",
      "metadata": {
        "id": "view-in-github",
        "colab_type": "text"
      },
      "source": [
        "<a href=\"https://colab.research.google.com/github/SummerProjectTEAM-10/Diabets-Prediction/blob/main/HeartDiseaseGeneticAlgo.ipynb\" target=\"_parent\"><img src=\"https://colab.research.google.com/assets/colab-badge.svg\" alt=\"Open In Colab\"/></a>"
      ]
    },
    {
      "cell_type": "code",
      "execution_count": 25,
      "metadata": {
        "id": "4zNUG260fRBU"
      },
      "outputs": [],
      "source": [
        "import numpy as np\n",
        "import pandas as pd\n",
        "import random\n",
        "import matplotlib.pyplot\n",
        "%matplotlib inline"
      ]
    },
    {
      "cell_type": "code",
      "source": [
        "from sklearn.datasets import load_breast_cancer\n",
        "from sklearn.model_selection import train_test_split\n",
        "from sklearn.linear_model import LogisticRegression\n",
        "from sklearn.metrics import accuracy_score"
      ],
      "metadata": {
        "id": "8dKm9WsdfRzl"
      },
      "execution_count": 26,
      "outputs": []
    },
    {
      "cell_type": "code",
      "source": [
        "#import the breast cancer dataset \n",
        "dataset=pd.read_csv('heart.csv')\n",
        "dataset.head()\n",
        "\n",
        "predictors = dataset.drop(\"target\",axis=1)\n",
        "label = dataset[\"target\"]\n",
        "\n",
        "#df = cancer.drop(['HeartDisease'],axis=1)\n",
        "#label=cancer[\"HeartDisease\"]"
      ],
      "metadata": {
        "id": "COYARiiIfequ"
      },
      "execution_count": 28,
      "outputs": []
    },
    {
      "cell_type": "code",
      "source": [
        "#splitting the model into training and testing set\n",
        "X_train, X_test, y_train, y_test = train_test_split(predictors, \n",
        "                                                    label, test_size=0.30, \n",
        "                                                    random_state=1)"
      ],
      "metadata": {
        "id": "Ol9L-WHdgbrr"
      },
      "execution_count": 35,
      "outputs": []
    },
    {
      "cell_type": "code",
      "source": [
        "#training a logistics regression model\n",
        "logmodel = LogisticRegression()\n",
        "logmodel.fit(X_train,y_train)\n",
        "predictions = logmodel.predict(X_test)\n",
        "print(\"Accuracy = \"+ str(accuracy_score(y_test,predictions)))"
      ],
      "metadata": {
        "colab": {
          "base_uri": "https://localhost:8080/"
        },
        "id": "zFPSrD6NgdA4",
        "outputId": "889336bc-b183-4320-bb9c-055dd50cc941"
      },
      "execution_count": 36,
      "outputs": [
        {
          "output_type": "stream",
          "name": "stdout",
          "text": [
            "Accuracy = 0.8021978021978022\n"
          ]
        }
      ]
    },
    {
      "cell_type": "code",
      "source": [
        "#defining various steps required for the genetic algorithm\n",
        "def initilization_of_population(size,n_feat):\n",
        "    population = []\n",
        "    for i in range(size):\n",
        "        chromosome = np.ones(n_feat,dtype=np.bool)\n",
        "        chromosome[:int(0.3*n_feat)]=False\n",
        "        np.random.shuffle(chromosome)\n",
        "        population.append(chromosome)\n",
        "    return population\n",
        "\n",
        "def fitness_score(population):\n",
        "    scores = []\n",
        "    for chromosome in population:\n",
        "        logmodel.fit(X_train.iloc[:,chromosome],y_train)\n",
        "        predictions = logmodel.predict(X_test.iloc[:,chromosome])\n",
        "        scores.append(accuracy_score(y_test,predictions))\n",
        "    scores, population = np.array(scores), np.array(population) \n",
        "    inds = np.argsort(scores)\n",
        "    return list(scores[inds][::-1]), list(population[inds,:][::-1])\n",
        "\n",
        "def selection(pop_after_fit,n_parents):\n",
        "    population_nextgen = []\n",
        "    for i in range(n_parents):\n",
        "        population_nextgen.append(pop_after_fit[i])\n",
        "    return population_nextgen\n",
        "\n",
        "def crossover(pop_after_sel):\n",
        "    population_nextgen=pop_after_sel\n",
        "    for i in range(len(pop_after_sel)):\n",
        "        child=pop_after_sel[i]\n",
        "        child[3:7]=pop_after_sel[(i+1)%len(pop_after_sel)][3:7]\n",
        "        population_nextgen.append(child)\n",
        "    return population_nextgen\n",
        "\n",
        "def mutation(pop_after_cross,mutation_rate):\n",
        "    population_nextgen = []\n",
        "    for i in range(0,len(pop_after_cross)):\n",
        "        chromosome = pop_after_cross[i]\n",
        "        for j in range(len(chromosome)):\n",
        "            if random.random() < mutation_rate:\n",
        "                chromosome[j]= not chromosome[j]\n",
        "        population_nextgen.append(chromosome)\n",
        "    #print(population_nextgen)\n",
        "    return population_nextgen\n",
        "\n",
        "def generations(size,n_feat,n_parents,mutation_rate,n_gen,X_train,\n",
        "                                   X_test, y_train, y_test):\n",
        "    best_chromo= []\n",
        "    best_score= []\n",
        "    population_nextgen=initilization_of_population(size,n_feat)\n",
        "    for i in range(n_gen):\n",
        "        scores, pop_after_fit = fitness_score(population_nextgen)\n",
        "        print(scores[:2])\n",
        "        pop_after_sel = selection(pop_after_fit,n_parents)\n",
        "        pop_after_cross = crossover(pop_after_sel)\n",
        "        population_nextgen = mutation(pop_after_cross,mutation_rate)\n",
        "        best_chromo.append(pop_after_fit[0])\n",
        "        best_score.append(scores[0])\n",
        "    return best_chromo,best_score\n",
        "    "
      ],
      "metadata": {
        "id": "dlYdWDfKgflr"
      },
      "execution_count": 31,
      "outputs": []
    },
    {
      "cell_type": "code",
      "source": [
        "import warnings\n",
        "warnings.filterwarnings(\"ignore\")"
      ],
      "metadata": {
        "id": "u7Hqv_kbii-x"
      },
      "execution_count": 32,
      "outputs": []
    },
    {
      "cell_type": "code",
      "source": [
        "chromo,score=generations(size=200,n_feat=13,n_parents=100,mutation_rate=0.10,\n",
        "                     n_gen=38,X_train=X_train,X_test=X_test,y_train=y_train,y_test=y_test)\n",
        "logmodel.fit(X_train.iloc[:,chromo[-1]],y_train)\n",
        "predictions = logmodel.predict(X_test.iloc[:,chromo[-1]])\n",
        "print(\"Accuracy score after genetic algorithm is= \"+str(accuracy_score(y_test,predictions)))"
      ],
      "metadata": {
        "colab": {
          "base_uri": "https://localhost:8080/"
        },
        "id": "Mw7h5A7Igj-F",
        "outputId": "9eb955a4-c2c2-466e-c851-22a7e880eec7"
      },
      "execution_count": 34,
      "outputs": [
        {
          "output_type": "stream",
          "name": "stdout",
          "text": [
            "[0.9010989010989011, 0.9010989010989011]\n",
            "[0.8901098901098901, 0.8901098901098901]\n",
            "[0.9120879120879121, 0.9120879120879121]\n",
            "[0.8901098901098901, 0.8901098901098901]\n",
            "[0.8901098901098901, 0.8901098901098901]\n",
            "[0.8901098901098901, 0.8901098901098901]\n",
            "[0.9010989010989011, 0.9010989010989011]\n",
            "[0.8901098901098901, 0.8901098901098901]\n",
            "[0.8901098901098901, 0.8901098901098901]\n",
            "[0.9120879120879121, 0.9120879120879121]\n",
            "[0.8901098901098901, 0.8901098901098901]\n",
            "[0.8901098901098901, 0.8901098901098901]\n",
            "[0.8791208791208791, 0.8791208791208791]\n",
            "[0.9010989010989011, 0.9010989010989011]\n",
            "[0.9010989010989011, 0.9010989010989011]\n",
            "[0.9010989010989011, 0.9010989010989011]\n",
            "[0.9010989010989011, 0.9010989010989011]\n",
            "[0.9010989010989011, 0.9010989010989011]\n",
            "[0.9010989010989011, 0.9010989010989011]\n",
            "[0.9010989010989011, 0.9010989010989011]\n",
            "[0.9010989010989011, 0.9010989010989011]\n",
            "[0.8901098901098901, 0.8901098901098901]\n",
            "[0.8901098901098901, 0.8901098901098901]\n",
            "[0.9010989010989011, 0.9010989010989011]\n",
            "[0.8901098901098901, 0.8901098901098901]\n",
            "[0.9010989010989011, 0.9010989010989011]\n",
            "[0.8901098901098901, 0.8901098901098901]\n",
            "[0.8901098901098901, 0.8901098901098901]\n",
            "[0.8901098901098901, 0.8901098901098901]\n",
            "[0.8901098901098901, 0.8901098901098901]\n",
            "[0.8901098901098901, 0.8901098901098901]\n",
            "[0.9010989010989011, 0.9010989010989011]\n",
            "[0.8901098901098901, 0.8901098901098901]\n",
            "[0.9010989010989011, 0.9010989010989011]\n",
            "[0.9010989010989011, 0.9010989010989011]\n",
            "[0.9120879120879121, 0.9120879120879121]\n",
            "[0.9120879120879121, 0.9120879120879121]\n",
            "[0.8901098901098901, 0.8901098901098901]\n",
            "Accuracy score after genetic algorithm is= 0.8681318681318682\n"
          ]
        }
      ]
    },
    {
      "cell_type": "code",
      "source": [
        ""
      ],
      "metadata": {
        "id": "g6v2ni9ZgnMS"
      },
      "execution_count": null,
      "outputs": []
    }
  ]
}